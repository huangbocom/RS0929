{
 "cells": [
  {
   "cell_type": "code",
   "execution_count": 1,
   "metadata": {},
   "outputs": [],
   "source": [
    "import pandas as pd\n"
   ]
  },
  {
   "cell_type": "code",
   "execution_count": 2,
   "metadata": {},
   "outputs": [
    {
     "name": "stdout",
     "output_type": "stream",
     "text": [
      "(3168, 21)\n"
     ]
    }
   ],
   "source": [
    "dataframe = pd.read_csv('./voice.csv')\n",
    "#这个是为了做显示输出所用\n",
    "pd.set_option('display.max_columns', 500)\n",
    "print(dataframe.shape)"
   ]
  },
  {
   "cell_type": "code",
   "execution_count": 3,
   "metadata": {},
   "outputs": [
    {
     "name": "stdout",
     "output_type": "stream",
     "text": [
      "3168\n"
     ]
    }
   ],
   "source": [
    "#shape[0]是行数，【1】是列数\n",
    "print('{}'.format(dataframe.shape[0]))"
   ]
  },
  {
   "cell_type": "code",
   "execution_count": 4,
   "metadata": {},
   "outputs": [],
   "source": [
    "# -1是要和不要最后一行，voice.csv中的数据最后一列是label. X肯定是不要，y是要的。\n",
    "X = dataframe.iloc[:, :-1]\n",
    "y = dataframe.iloc[:, -1]"
   ]
  },
  {
   "cell_type": "code",
   "execution_count": 5,
   "metadata": {},
   "outputs": [],
   "source": [
    "#做 lable  encoder \n",
    "from sklearn.preprocessing import LabelEncoder, StandardScaler\n",
    "gender_encoder = LabelEncoder()\n",
    "y = gender_encoder.fit_transform(y)"
   ]
  },
  {
   "cell_type": "code",
   "execution_count": 6,
   "metadata": {},
   "outputs": [],
   "source": [
    "#做z-score，正态\n",
    "from sklearn import preprocessing\n",
    "ss = preprocessing.StandardScaler()\n",
    "X = ss.fit_transform(X)\n"
   ]
  },
  {
   "cell_type": "code",
   "execution_count": 7,
   "metadata": {},
   "outputs": [],
   "source": [
    "# 分割数据，将25%的数据作为测试集，其余作为训练集\n",
    "from sklearn.model_selection import train_test_split\n",
    "train_x, test_x, train_y, test_y = train_test_split(X, y, test_size=0.25, random_state=33)"
   ]
  },
  {
   "cell_type": "code",
   "execution_count": 8,
   "metadata": {},
   "outputs": [
    {
     "name": "stdout",
     "output_type": "stream",
     "text": [
      "[1 1 0 1 1 0 0 1 1 1 0 0 1 1 0 0 0 0 1 0 0 0 1 1 1 0 1 0 0 0 1 1 0 1 1 1 0\n",
      " 0 0 1 1 1 0 1 0 0 1 0 0 0 1 1 1 0 0 0 1 1 0 1 1 1 0 0 1 1 0 1 0 0 0 0 1 0\n",
      " 1 0 0 1 1 0 1 0 0 0 0 0 1 1 0 1 0 0 0 1 1 0 1 1 1 1 1 0 0 1 1 0 0 1 0 1 0\n",
      " 0 0 0 0 1 1 0 1 0 1 0 0 1 0 1 0 0 0 0 1 0 1 0 1 0 1 1 1 1 1 0 0 1 0 1 1 1\n",
      " 1 1 0 0 0 1 0 1 0 0 1 0 0 0 0 0 0 1 0 0 0 1 0 1 1 0 0 1 1 1 1 1 1 1 0 0 0\n",
      " 0 0 0 1 1 0 0 0 1 1 1 1 0 0 0 0 0 1 1 1 1 0 0 0 0 1 0 0 0 0 1 0 0 0 1 0 1\n",
      " 1 0 0 1 1 1 0 1 0 0 0 0 1 0 1 1 0 1 1 0 0 0 1 1 0 0 0 1 0 1 0 0 0 0 1 1 0\n",
      " 0 1 0 1 1 1 0 0 1 1 0 1 1 1 1 0 1 0 0 0 0 1 0 0 0 0 1 1 0 1 1 0 0 0 1 1 1\n",
      " 0 1 0 1 1 0 1 0 0 1 1 1 1 0 0 1 0 1 0 0 1 0 0 0 0 0 0 0 0 0 0 1 1 1 1 1 1\n",
      " 0 0 1 1 0 0 0 0 0 1 1 1 1 0 1 1 1 1 0 1 0 0 0 0 0 0 1 1 0 1 1 0 0 1 1 0 1\n",
      " 0 1 1 0 0 0 0 1 0 1 1 0 0 0 1 0 1 1 0 1 0 0 1 1 1 0 1 1 0 1 1 0 1 0 1 0 1\n",
      " 0 1 1 1 0 0 0 1 1 0 1 0 0 1 0 0 0 1 1 1 1 0 0 1 1 0 1 0 1 1 0 0 0 1 0 1 0\n",
      " 0 0 1 0 1 0 0 1 0 0 0 1 1 0 1 0 1 0 0 1 0 1 0 1 0 0 0 1 1 1 1 0 1 1 0 1 1\n",
      " 1 0 1 0 0 0 0 0 1 0 1 1 1 0 0 0 1 1 1 1 1 0 0 0 0 1 1 1 1 0 0 1 0 0 1 0 0\n",
      " 0 0 1 1 0 0 0 0 1 0 0 1 0 1 0 1 1 0 1 1 0 0 0 0 1 1 1 1 0 0 1 0 1 0 0 1 1\n",
      " 1 1 0 1 1 1 1 0 0 0 0 0 1 1 0 0 1 0 1 1 0 0 0 0 0 0 0 0 1 1 0 1 1 0 1 0 0\n",
      " 1 0 1 1 0 0 0 1 0 1 1 1 0 1 1 0 1 1 1 0 0 0 0 0 1 1 1 0 0 0 1 0 0 0 1 0 0\n",
      " 0 0 1 1 1 1 0 0 1 0 1 1 0 1 1 0 1 1 0 1 1 0 1 1 1 1 0 1 1 0 0 1 1 0 1 0 1\n",
      " 0 1 1 0 1 1 0 0 0 1 1 1 0 0 1 0 1 1 0 1 1 1 0 0 0 0 0 0 0 1 0 0 0 0 1 1 1\n",
      " 1 0 1 0 1 1 1 1 0 0 1 0 0 0 1 1 0 0 1 1 0 0 0 1 1 1 1 0 0 0 0 1 0 1 1 1 0\n",
      " 1 0 1 1 0 0 1 0 0 0 1 1 1 1 1 0 1 0 0 1 1 1 0 0 1 1 1 0 0 0 0 0 1 1 1 0 1\n",
      " 1 1 0 0 1 0 1 1 1 1 1 1 0 1 1]\n",
      "[21:01:46] WARNING: C:\\Users\\Administrator\\workspace\\xgboost-win64_release_1.2.0\\src\\learner.cc:516: \n",
      "Parameters: { boosting_type, subsample_freq } might not be used.\n",
      "\n",
      "  This may not be accurate due to some parameters are only used in language bindings but\n",
      "  passed down to XGBoost core.  Or some parameters are not used but slip through this\n",
      "  verification. Please open an issue if you find above cases.\n",
      "\n",
      "\n",
      "[0]\ttrain-auc:0.99169\tvalid-auc:0.98891\n",
      "Multiple eval metrics have been passed: 'valid-auc' will be used for early stopping.\n",
      "\n",
      "Will train until valid-auc hasn't improved in 25 rounds.\n",
      "[25]\ttrain-auc:0.99837\tvalid-auc:0.99678\n",
      "[50]\ttrain-auc:0.99828\tvalid-auc:0.99675\n",
      "[75]\ttrain-auc:0.99915\tvalid-auc:0.99710\n",
      "[100]\ttrain-auc:0.99929\tvalid-auc:0.99766\n",
      "[125]\ttrain-auc:0.99946\tvalid-auc:0.99782\n",
      "[150]\ttrain-auc:0.99960\tvalid-auc:0.99812\n",
      "[175]\ttrain-auc:0.99965\tvalid-auc:0.99826\n",
      "[200]\ttrain-auc:0.99973\tvalid-auc:0.99842\n",
      "[225]\ttrain-auc:0.99979\tvalid-auc:0.99848\n",
      "[250]\ttrain-auc:0.99984\tvalid-auc:0.99856\n",
      "[275]\ttrain-auc:0.99988\tvalid-auc:0.99863\n",
      "[300]\ttrain-auc:0.99990\tvalid-auc:0.99867\n",
      "[325]\ttrain-auc:0.99992\tvalid-auc:0.99870\n",
      "[350]\ttrain-auc:0.99994\tvalid-auc:0.99870\n",
      "[375]\ttrain-auc:0.99995\tvalid-auc:0.99875\n",
      "[400]\ttrain-auc:0.99996\tvalid-auc:0.99875\n",
      "Stopping. Best iteration:\n",
      "[382]\ttrain-auc:0.99996\tvalid-auc:0.99877\n",
      "\n",
      "XGBoost : 0.9823232323232324\n"
     ]
    }
   ],
   "source": [
    "import xgboost as xgbo\n",
    "param = {'boosting_type' : 'gbdt',\n",
    "                         'objective' : 'binary:logistic', #任务目标\n",
    "                         'eval_metric' : 'auc', #评估指标\n",
    "                         'eta' : 0.01, #学习率\n",
    "                         'max_depth' : 20, #树最大深度\n",
    "                         'colsample_bytree':0.8, #设置在每次迭代中使用特征的比例\n",
    "                         'subsample' : 0.8, #样本采样比例\n",
    "                         'subsample_freq' : 10, #bagging的次数\n",
    "                         'alpha': 0.6, #L1正则\n",
    "                         'lambda': 0, #L2正则\n",
    "        }\n",
    "train_data = xgbo.DMatrix(train_x, train_y)\n",
    "test_data = xgbo.DMatrix(test_x, test_y) \n",
    "print(test_y)\n",
    "model = xgbo.train(param,  \n",
    "                   train_data, evals= [(train_data, 'train'), (test_data, 'valid')],\n",
    "                   num_boost_round=3000,\n",
    "                   early_stopping_rounds=25, verbose_eval=25\n",
    "                  )\n",
    "y_pred = model.predict(test_data)\n",
    "#必须作如下处理，否则在accuracy_score时，会报错。\n",
    "y_pred = [1 if x>=0.5 else 0 for x in y_pred]\n",
    "from sklearn.metrics import accuracy_score\n",
    "print('XGBoost :', accuracy_score(test_y, y_pred ))"
   ]
  },
  {
   "cell_type": "code",
   "execution_count": null,
   "metadata": {},
   "outputs": [],
   "source": []
  }
 ],
 "metadata": {
  "kernelspec": {
   "display_name": "Python 3",
   "language": "python",
   "name": "python3"
  },
  "language_info": {
   "codemirror_mode": {
    "name": "ipython",
    "version": 3
   },
   "file_extension": ".py",
   "mimetype": "text/x-python",
   "name": "python",
   "nbconvert_exporter": "python",
   "pygments_lexer": "ipython3",
   "version": "3.8.3"
  }
 },
 "nbformat": 4,
 "nbformat_minor": 4
}
